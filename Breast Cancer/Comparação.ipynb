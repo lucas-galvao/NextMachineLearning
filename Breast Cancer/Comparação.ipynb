{
 "cells": [
  {
   "cell_type": "code",
   "execution_count": 1,
   "metadata": {},
   "outputs": [],
   "source": [
    "import json"
   ]
  },
  {
   "cell_type": "code",
   "execution_count": 2,
   "metadata": {
    "scrolled": true
   },
   "outputs": [],
   "source": [
    "with open('3-Células.txt') as json_file:\n",
    "    _3_cells = json.load(json_file)"
   ]
  },
  {
   "cell_type": "code",
   "execution_count": 3,
   "metadata": {},
   "outputs": [],
   "source": [
    "with open('2-Células.txt') as json_file:\n",
    "    _2_cells = json.load(json_file)"
   ]
  },
  {
   "cell_type": "code",
   "execution_count": 4,
   "metadata": {},
   "outputs": [],
   "source": [
    "with open('1-Célula.txt') as json_file:\n",
    "    _1_cell = json.load(json_file)"
   ]
  },
  {
   "cell_type": "markdown",
   "metadata": {},
   "source": [
    "## Comparação Logistic Regression"
   ]
  },
  {
   "cell_type": "code",
   "execution_count": 5,
   "metadata": {},
   "outputs": [
    {
     "name": "stdout",
     "output_type": "stream",
     "text": [
      "3 Cells - Solver: saga\n",
      "Accuracy Score: 0.9591\n",
      "Classification Report:\n",
      "               precision    recall  f1-score   support\n",
      "\n",
      "           0       0.96      0.98      0.97       110\n",
      "           1       0.97      0.92      0.94        61\n",
      "\n",
      "    accuracy                           0.96       171\n",
      "   macro avg       0.96      0.95      0.95       171\n",
      "weighted avg       0.96      0.96      0.96       171\n",
      " \n",
      "\n",
      "2 Cells - Solver: saga\n",
      "Accuracy Score: 0.9591\n",
      "Classification Report:\n",
      "               precision    recall  f1-score   support\n",
      "\n",
      "           0       0.96      0.98      0.97       110\n",
      "           1       0.97      0.92      0.94        61\n",
      "\n",
      "    accuracy                           0.96       171\n",
      "   macro avg       0.96      0.95      0.95       171\n",
      "weighted avg       0.96      0.96      0.96       171\n",
      " \n",
      "\n",
      "1 Cell - Solver: saga\n",
      "Accuracy Score: 0.9240\n",
      "Classification Report:\n",
      "               precision    recall  f1-score   support\n",
      "\n",
      "           0       0.92      0.96      0.94       110\n",
      "           1       0.93      0.85      0.89        61\n",
      "\n",
      "    accuracy                           0.92       171\n",
      "   macro avg       0.93      0.91      0.92       171\n",
      "weighted avg       0.92      0.92      0.92       171\n",
      "\n"
     ]
    }
   ],
   "source": [
    "print ('3 Cells - Solver: %s' % _3_cells['lr']['solver'])\n",
    "print ('Accuracy Score: %.4f' % _3_cells['lr']['score'])\n",
    "print ('Classification Report:\\n %s \\n' % _3_cells['lr']['cr'])\n",
    "\n",
    "print ('2 Cells - Solver: %s' % _2_cells['lr']['solver'])\n",
    "print ('Accuracy Score: %.4f' % _2_cells['lr']['score'])\n",
    "print ('Classification Report:\\n %s \\n' % _2_cells['lr']['cr'])\n",
    "\n",
    "print ('1 Cell - Solver: %s' % _1_cell['lr']['solver'])\n",
    "print ('Accuracy Score: %.4f' % _1_cell['lr']['score'])\n",
    "print ('Classification Report:\\n %s' % _1_cell['lr']['cr'])"
   ]
  },
  {
   "cell_type": "markdown",
   "metadata": {},
   "source": [
    "## Comparação Naive Bayes Classifier"
   ]
  },
  {
   "cell_type": "code",
   "execution_count": 6,
   "metadata": {},
   "outputs": [
    {
     "name": "stdout",
     "output_type": "stream",
     "text": [
      "3 Cells - Accuracy Score: 0.9415\n",
      "Classification Report:\n",
      "               precision    recall  f1-score   support\n",
      "\n",
      "           0       0.93      0.98      0.96       110\n",
      "           1       0.96      0.87      0.91        61\n",
      "\n",
      "    accuracy                           0.94       171\n",
      "   macro avg       0.95      0.93      0.93       171\n",
      "weighted avg       0.94      0.94      0.94       171\n",
      " \n",
      "\n",
      "2 Cells - Accuracy Score: 0.9415\n",
      "Classification Report:\n",
      "               precision    recall  f1-score   support\n",
      "\n",
      "           0       0.93      0.98      0.96       110\n",
      "           1       0.96      0.87      0.91        61\n",
      "\n",
      "    accuracy                           0.94       171\n",
      "   macro avg       0.95      0.93      0.93       171\n",
      "weighted avg       0.94      0.94      0.94       171\n",
      " \n",
      "\n",
      "1 Cell - Accuracy Score: 0.9298\n",
      "Classification Report:\n",
      "               precision    recall  f1-score   support\n",
      "\n",
      "           0       0.92      0.98      0.95       110\n",
      "           1       0.96      0.84      0.89        61\n",
      "\n",
      "    accuracy                           0.93       171\n",
      "   macro avg       0.94      0.91      0.92       171\n",
      "weighted avg       0.93      0.93      0.93       171\n",
      "\n"
     ]
    }
   ],
   "source": [
    "print ('3 Cells - Accuracy Score: %.4f' % _3_cells['nbc']['score'])\n",
    "print ('Classification Report:\\n %s \\n' % _3_cells['nbc']['cr'])\n",
    "\n",
    "print ('2 Cells - Accuracy Score: %.4f' % _2_cells['nbc']['score'])\n",
    "print ('Classification Report:\\n %s \\n' % _2_cells['nbc']['cr'])\n",
    "\n",
    "print ('1 Cell - Accuracy Score: %.4f' % _1_cell['nbc']['score'])\n",
    "print ('Classification Report:\\n %s' % _1_cell['nbc']['cr'])"
   ]
  },
  {
   "cell_type": "markdown",
   "metadata": {},
   "source": [
    "## Comparação KNN"
   ]
  },
  {
   "cell_type": "code",
   "execution_count": 7,
   "metadata": {},
   "outputs": [
    {
     "name": "stdout",
     "output_type": "stream",
     "text": [
      "3 Cells - K: 1\n",
      "Accuracy Score: 0.9474\n",
      "Classification Report:\n",
      "               precision    recall  f1-score   support\n",
      "\n",
      "           0       0.94      0.98      0.96       110\n",
      "           1       0.96      0.89      0.92        61\n",
      "\n",
      "    accuracy                           0.95       171\n",
      "   macro avg       0.95      0.93      0.94       171\n",
      "weighted avg       0.95      0.95      0.95       171\n",
      " \n",
      "\n",
      "2 Cells - K: 1\n",
      "Accuracy Score: 0.9474\n",
      "Classification Report:\n",
      "               precision    recall  f1-score   support\n",
      "\n",
      "           0       0.94      0.98      0.96       110\n",
      "           1       0.96      0.89      0.92        61\n",
      "\n",
      "    accuracy                           0.95       171\n",
      "   macro avg       0.95      0.93      0.94       171\n",
      "weighted avg       0.95      0.95      0.95       171\n",
      " \n",
      "\n",
      "1 Cell - K: 1\n",
      "Accuracy Score: 0.9357\n",
      "Classification Report:\n",
      "               precision    recall  f1-score   support\n",
      "\n",
      "           0       0.94      0.96      0.95       110\n",
      "           1       0.93      0.89      0.91        61\n",
      "\n",
      "    accuracy                           0.94       171\n",
      "   macro avg       0.93      0.92      0.93       171\n",
      "weighted avg       0.94      0.94      0.94       171\n",
      "\n"
     ]
    }
   ],
   "source": [
    "print ('3 Cells - K: %i' % _3_cells['knn']['k'])\n",
    "print ('Accuracy Score: %.4f' % _3_cells['knn']['score'])\n",
    "print ('Classification Report:\\n %s \\n' % _3_cells['knn']['cr'])\n",
    "\n",
    "print ('2 Cells - K: %i' % _2_cells['knn']['k'])\n",
    "print ('Accuracy Score: %.4f' % _2_cells['knn']['score'])\n",
    "print ('Classification Report:\\n %s \\n' % _2_cells['knn']['cr'])\n",
    "\n",
    "print ('1 Cell - K: %i' % _1_cell['knn']['k'])\n",
    "print ('Accuracy Score: %.4f' % _1_cell['knn']['score'])\n",
    "print ('Classification Report:\\n %s' % _1_cell['knn']['cr'])"
   ]
  },
  {
   "cell_type": "markdown",
   "metadata": {},
   "source": [
    "## Comparação SVM"
   ]
  },
  {
   "cell_type": "code",
   "execution_count": 8,
   "metadata": {},
   "outputs": [
    {
     "name": "stdout",
     "output_type": "stream",
     "text": [
      "3 Cells - Kernel: rbf\n",
      "Accuracy Score: 0.9649\n",
      "Classification Report:\n",
      "               precision    recall  f1-score   support\n",
      "\n",
      "           0       0.96      0.98      0.97       110\n",
      "           1       0.97      0.93      0.95        61\n",
      "\n",
      "    accuracy                           0.96       171\n",
      "   macro avg       0.97      0.96      0.96       171\n",
      "weighted avg       0.96      0.96      0.96       171\n",
      " \n",
      "\n",
      "2 Cells - Kernel: rbf\n",
      "Accuracy Score: 0.9649\n",
      "Classification Report:\n",
      "               precision    recall  f1-score   support\n",
      "\n",
      "           0       0.96      0.98      0.97       110\n",
      "           1       0.97      0.93      0.95        61\n",
      "\n",
      "    accuracy                           0.96       171\n",
      "   macro avg       0.97      0.96      0.96       171\n",
      "weighted avg       0.96      0.96      0.96       171\n",
      " \n",
      "\n",
      "1 Cell - Kernel: rbf\n",
      "Accuracy Score: 0.9298\n",
      "Classification Report:\n",
      "               precision    recall  f1-score   support\n",
      "\n",
      "           0       0.92      0.97      0.95       110\n",
      "           1       0.95      0.85      0.90        61\n",
      "\n",
      "    accuracy                           0.93       171\n",
      "   macro avg       0.93      0.91      0.92       171\n",
      "weighted avg       0.93      0.93      0.93       171\n",
      "\n"
     ]
    }
   ],
   "source": [
    "print ('3 Cells - Kernel: %s' % _3_cells['svm']['kernel'])\n",
    "print ('Accuracy Score: %.4f' % _3_cells['svm']['score'])\n",
    "print ('Classification Report:\\n %s \\n' % _3_cells['svm']['cr'])\n",
    "\n",
    "print ('2 Cells - Kernel: %s' % _2_cells['svm']['kernel'])\n",
    "print ('Accuracy Score: %.4f' % _2_cells['svm']['score'])\n",
    "print ('Classification Report:\\n %s \\n' % _2_cells['svm']['cr'])\n",
    "\n",
    "print ('1 Cell - Kernel: %s' % _1_cell['svm']['kernel'])\n",
    "print ('Accuracy Score: %.4f' % _1_cell['svm']['score'])\n",
    "print ('Classification Report:\\n %s' % _1_cell['svm']['cr'])"
   ]
  },
  {
   "cell_type": "markdown",
   "metadata": {},
   "source": [
    "## Comparação Random Forest Classifier"
   ]
  },
  {
   "cell_type": "code",
   "execution_count": 10,
   "metadata": {},
   "outputs": [
    {
     "name": "stdout",
     "output_type": "stream",
     "text": [
      "3 Cells - Trees: 51\n",
      "Leafs: 1\n",
      "Accuracy Score: 0.9532\n",
      "Classification Report:\n",
      "               precision    recall  f1-score   support\n",
      "\n",
      "           0       0.95      0.98      0.96       110\n",
      "           1       0.96      0.90      0.93        61\n",
      "\n",
      "    accuracy                           0.95       171\n",
      "   macro avg       0.96      0.94      0.95       171\n",
      "weighted avg       0.95      0.95      0.95       171\n",
      " \n",
      "\n",
      "2 Cells - Trees: 51\n",
      "Leafs: 1\n",
      "Accuracy Score: 0.9532\n",
      "Classification Report:\n",
      "               precision    recall  f1-score   support\n",
      "\n",
      "           0       0.95      0.98      0.96       110\n",
      "           1       0.96      0.90      0.93        61\n",
      "\n",
      "    accuracy                           0.95       171\n",
      "   macro avg       0.96      0.94      0.95       171\n",
      "weighted avg       0.95      0.95      0.95       171\n",
      " \n",
      "\n",
      "1 Cell - Trees: 51\n",
      "Leafs: 1\n",
      "Accuracy Score: 0.9474\n",
      "Classification Report:\n",
      "               precision    recall  f1-score   support\n",
      "\n",
      "           0       0.93      0.99      0.96       110\n",
      "           1       0.98      0.87      0.92        61\n",
      "\n",
      "    accuracy                           0.95       171\n",
      "   macro avg       0.96      0.93      0.94       171\n",
      "weighted avg       0.95      0.95      0.95       171\n",
      "\n"
     ]
    }
   ],
   "source": [
    "print ('3 Cells - Trees: %i' % _3_cells['rfc']['trees'])\n",
    "print ('Leafs: %i' % _3_cells['rfc']['leafs'])\n",
    "print ('Accuracy Score: %.4f' % _3_cells['rfc']['score'])\n",
    "print ('Classification Report:\\n %s \\n' % _3_cells['rfc']['cr'])\n",
    "\n",
    "print ('2 Cells - Trees: %i' % _2_cells['rfc']['trees'])\n",
    "print ('Leafs: %i' % _2_cells['rfc']['leafs'])\n",
    "print ('Accuracy Score: %.4f' % _2_cells['rfc']['score'])\n",
    "print ('Classification Report:\\n %s \\n' % _2_cells['rfc']['cr'])\n",
    "\n",
    "print ('1 Cell - Trees: %i' % _1_cell['rfc']['trees'])\n",
    "print ('Leafs: %i' % _1_cell['rfc']['leafs'])\n",
    "print ('Accuracy Score: %.4f' % _1_cell['rfc']['score'])\n",
    "print ('Classification Report:\\n %s' % _1_cell['rfc']['cr'])"
   ]
  }
 ],
 "metadata": {
  "kernelspec": {
   "display_name": "Python 3",
   "language": "python",
   "name": "python3"
  },
  "language_info": {
   "codemirror_mode": {
    "name": "ipython",
    "version": 3
   },
   "file_extension": ".py",
   "mimetype": "text/x-python",
   "name": "python",
   "nbconvert_exporter": "python",
   "pygments_lexer": "ipython3",
   "version": "3.7.4"
  }
 },
 "nbformat": 4,
 "nbformat_minor": 2
}
