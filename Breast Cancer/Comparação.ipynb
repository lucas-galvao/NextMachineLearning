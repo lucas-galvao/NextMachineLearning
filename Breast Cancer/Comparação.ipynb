{
 "cells": [
  {
   "cell_type": "code",
   "execution_count": 1,
   "metadata": {},
   "outputs": [],
   "source": [
    "import json"
   ]
  },
  {
   "cell_type": "code",
   "execution_count": 2,
   "metadata": {
    "scrolled": true
   },
   "outputs": [],
   "source": [
    "with open('3-Células.txt') as json_file:\n",
    "    _3_cells = json.load(json_file)"
   ]
  },
  {
   "cell_type": "code",
   "execution_count": 3,
   "metadata": {},
   "outputs": [],
   "source": [
    "with open('2-Células.txt') as json_file:\n",
    "    _2_cells = json.load(json_file)"
   ]
  },
  {
   "cell_type": "code",
   "execution_count": 4,
   "metadata": {},
   "outputs": [],
   "source": [
    "with open('1-Célula.txt') as json_file:\n",
    "    _1_cell = json.load(json_file)"
   ]
  },
  {
   "cell_type": "markdown",
   "metadata": {},
   "source": [
    "## Comparação Logistic Regression"
   ]
  },
  {
   "cell_type": "code",
   "execution_count": 8,
   "metadata": {},
   "outputs": [
    {
     "name": "stdout",
     "output_type": "stream",
     "text": [
      "3 Cells - Solver: liblinear\n",
      "Accuracy Score: 0.9591\n",
      "\n",
      "2 Cells - Solver: newton-cg\n",
      "Accuracy Score: 0.9532\n",
      "\n",
      "1 Cell - Solver: newton-cg\n",
      "Accuracy Score: 0.9240\n"
     ]
    }
   ],
   "source": [
    "print ('3 Cells - Solver: %s' % _3_cells['lr']['solver'])\n",
    "print ('Accuracy Score: %.4f\\n' % _3_cells['lr']['score'])\n",
    "\n",
    "print ('2 Cells - Solver: %s' % _2_cells['lr']['solver'])\n",
    "print ('Accuracy Score: %.4f\\n' % _2_cells['lr']['score'])\n",
    "\n",
    "print ('1 Cell - Solver: %s' % _1_cell['lr']['solver'])\n",
    "print ('Accuracy Score: %.4f' % _1_cell['lr']['score'])"
   ]
  },
  {
   "cell_type": "markdown",
   "metadata": {},
   "source": [
    "## Comparação Naive Bayes Classifier"
   ]
  },
  {
   "cell_type": "code",
   "execution_count": 9,
   "metadata": {},
   "outputs": [
    {
     "name": "stdout",
     "output_type": "stream",
     "text": [
      "Accuracy Score - 3 Cells: 0.9415\n",
      "Accuracy Score - 2 Cells: 0.9064\n",
      "Accuracy Score - 1 Cell: 0.9298\n"
     ]
    }
   ],
   "source": [
    "print ('Accuracy Score - 3 Cells: %.4f' % _3_cells['nbc']['score'])\n",
    "print ('Accuracy Score - 2 Cells: %.4f' % _2_cells['nbc']['score'])\n",
    "print ('Accuracy Score - 1 Cell: %.4f' % _1_cell['nbc']['score'])"
   ]
  },
  {
   "cell_type": "markdown",
   "metadata": {},
   "source": [
    "## Comparação KNN"
   ]
  },
  {
   "cell_type": "code",
   "execution_count": 11,
   "metadata": {},
   "outputs": [
    {
     "name": "stdout",
     "output_type": "stream",
     "text": [
      "3 Cells - Solver: 9\n",
      "Accuracy Score: 0.9766\n",
      "\n",
      "2 Cells - Solver: 7\n",
      "Accuracy Score: 0.9766\n",
      "\n",
      "1 Cell - Solver: 3\n",
      "Accuracy Score: 0.9532\n"
     ]
    }
   ],
   "source": [
    "print ('3 Cells - K: %i' % _3_cells['knn']['k'])\n",
    "print ('Accuracy Score: %.4f\\n' % _3_cells['knn']['score'])\n",
    "\n",
    "print ('2 Cells - K: %i' % _2_cells['knn']['k'])\n",
    "print ('Accuracy Score: %.4f\\n' % _2_cells['knn']['score'])\n",
    "\n",
    "print ('1 Cell - K: %i' % _1_cell['knn']['k'])\n",
    "print ('Accuracy Score: %.4f' % _1_cell['knn']['score'])"
   ]
  },
  {
   "cell_type": "markdown",
   "metadata": {},
   "source": [
    "## Comparação SVM"
   ]
  },
  {
   "cell_type": "code",
   "execution_count": 13,
   "metadata": {},
   "outputs": [
    {
     "name": "stdout",
     "output_type": "stream",
     "text": [
      "3 Cells - Kernel: rbf\n",
      "Accuracy Score: 0.9649\n",
      "\n",
      "2 Cells - Kernel: rbf\n",
      "Accuracy Score: 0.9532\n",
      "\n",
      "1 Cell - Kernel: rbf\n",
      "Accuracy Score: 0.9298\n"
     ]
    }
   ],
   "source": [
    "print ('3 Cells - Kernel: %s' % _3_cells['svm']['kernel'])\n",
    "print ('Accuracy Score: %.4f\\n' % _3_cells['svm']['score'])\n",
    "\n",
    "print ('2 Cells - Kernel: %s' % _2_cells['svm']['kernel'])\n",
    "print ('Accuracy Score: %.4f\\n' % _2_cells['svm']['score'])\n",
    "\n",
    "print ('1 Cell - Kernel: %s' % _1_cell['svm']['kernel'])\n",
    "print ('Accuracy Score: %.4f' % _1_cell['svm']['score'])"
   ]
  },
  {
   "cell_type": "markdown",
   "metadata": {},
   "source": [
    "## Comparação Random Forest Classifier"
   ]
  },
  {
   "cell_type": "code",
   "execution_count": 14,
   "metadata": {},
   "outputs": [
    {
     "name": "stdout",
     "output_type": "stream",
     "text": [
      "3 Cells - Trees: 51\n",
      "Leafs: 2\n",
      "Accuracy Score: 0.9766\n",
      "\n",
      "2 Cells - K: 101\n",
      "Leafs: 1\n",
      "Accuracy Score: 0.9532\n",
      "\n",
      "1 Cell - K: 501\n",
      "Leafs: 1\n",
      "Accuracy Score: 0.9532\n"
     ]
    }
   ],
   "source": [
    "print ('3 Cells - Trees: %i' % _3_cells['rfc']['trees'])\n",
    "print ('Leafs: %i' % _3_cells['rfc']['leafs'])\n",
    "print ('Accuracy Score: %.4f\\n' % _3_cells['rfc']['score'])\n",
    "\n",
    "print ('2 Cells - K: %i' % _2_cells['rfc']['trees'])\n",
    "print ('Leafs: %i' % _2_cells['rfc']['leafs'])\n",
    "print ('Accuracy Score: %.4f\\n' % _2_cells['rfc']['score'])\n",
    "\n",
    "print ('1 Cell - K: %i' % _1_cell['rfc']['trees'])\n",
    "print ('Leafs: %i' % _1_cell['rfc']['leafs'])\n",
    "print ('Accuracy Score: %.4f' % _1_cell['rfc']['score'])"
   ]
  }
 ],
 "metadata": {
  "kernelspec": {
   "display_name": "Python 3",
   "language": "python",
   "name": "python3"
  },
  "language_info": {
   "codemirror_mode": {
    "name": "ipython",
    "version": 3
   },
   "file_extension": ".py",
   "mimetype": "text/x-python",
   "name": "python",
   "nbconvert_exporter": "python",
   "pygments_lexer": "ipython3",
   "version": "3.7.4"
  }
 },
 "nbformat": 4,
 "nbformat_minor": 2
}
