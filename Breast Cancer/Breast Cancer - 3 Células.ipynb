{
 "cells": [
  {
   "cell_type": "markdown",
   "metadata": {},
   "source": [
    "## Bibliotecas"
   ]
  },
  {
   "cell_type": "code",
   "execution_count": 1,
   "metadata": {},
   "outputs": [],
   "source": [
    "import json\n",
    "import pandas as pd\n",
    "import numpy as np\n",
    "import seaborn as sns\n",
    "import matplotlib.pyplot as plt\n",
    "\n",
    "from matplotlib import pyplot as plt\n",
    "from sklearn.model_selection import train_test_split\n",
    "from sklearn.model_selection import validation_curve\n",
    "from sklearn.metrics import classification_report, confusion_matrix\n",
    "from sklearn.preprocessing import StandardScaler"
   ]
  },
  {
   "cell_type": "markdown",
   "metadata": {},
   "source": [
    "## Base de Dados"
   ]
  },
  {
   "cell_type": "code",
   "execution_count": 2,
   "metadata": {},
   "outputs": [],
   "source": [
    "head = ['ID', 'Target']\n",
    "cell_1 = ['Radius-1', 'Texture-1', 'Perimeter-1', 'Area-1', 'Smoothness-1', 'Compactness-1', 'Concavity-1', 'Concave Points-1', 'Symmetry-1', 'Fractal Dimension-1']\n",
    "cell_2 = ['Radius-2', 'Texture-2', 'Perimeter-2', 'Area-2', 'Smoothness-2', 'Compactness-2', 'Concavity-2', 'Concave Points-2', 'Symmetry-2', 'Fractal Dimension-2']\n",
    "cell_3 = ['Radius-3', 'Texture-3', 'Perimeter-3', 'Area-3', 'Smoothness-3', 'Compactness-3', 'Concavity-3', 'Concave Points-3', 'Symmetry-3', 'Fractal Dimension-3']\n",
    "\n",
    "header = head + cell_1 + cell_2 + cell_3"
   ]
  },
  {
   "cell_type": "code",
   "execution_count": 3,
   "metadata": {
    "scrolled": true
   },
   "outputs": [
    {
     "data": {
      "text/html": [
       "<div>\n",
       "<style scoped>\n",
       "    .dataframe tbody tr th:only-of-type {\n",
       "        vertical-align: middle;\n",
       "    }\n",
       "\n",
       "    .dataframe tbody tr th {\n",
       "        vertical-align: top;\n",
       "    }\n",
       "\n",
       "    .dataframe thead th {\n",
       "        text-align: right;\n",
       "    }\n",
       "</style>\n",
       "<table border=\"1\" class=\"dataframe\">\n",
       "  <thead>\n",
       "    <tr style=\"text-align: right;\">\n",
       "      <th></th>\n",
       "      <th>ID</th>\n",
       "      <th>Target</th>\n",
       "      <th>Radius-1</th>\n",
       "      <th>Texture-1</th>\n",
       "      <th>Perimeter-1</th>\n",
       "      <th>Area-1</th>\n",
       "      <th>Smoothness-1</th>\n",
       "      <th>Compactness-1</th>\n",
       "      <th>Concavity-1</th>\n",
       "      <th>Concave Points-1</th>\n",
       "      <th>...</th>\n",
       "      <th>Radius-3</th>\n",
       "      <th>Texture-3</th>\n",
       "      <th>Perimeter-3</th>\n",
       "      <th>Area-3</th>\n",
       "      <th>Smoothness-3</th>\n",
       "      <th>Compactness-3</th>\n",
       "      <th>Concavity-3</th>\n",
       "      <th>Concave Points-3</th>\n",
       "      <th>Symmetry-3</th>\n",
       "      <th>Fractal Dimension-3</th>\n",
       "    </tr>\n",
       "  </thead>\n",
       "  <tbody>\n",
       "    <tr>\n",
       "      <td>0</td>\n",
       "      <td>842302</td>\n",
       "      <td>M</td>\n",
       "      <td>17.99</td>\n",
       "      <td>10.38</td>\n",
       "      <td>122.80</td>\n",
       "      <td>1001.0</td>\n",
       "      <td>0.11840</td>\n",
       "      <td>0.27760</td>\n",
       "      <td>0.3001</td>\n",
       "      <td>0.14710</td>\n",
       "      <td>...</td>\n",
       "      <td>25.38</td>\n",
       "      <td>17.33</td>\n",
       "      <td>184.60</td>\n",
       "      <td>2019.0</td>\n",
       "      <td>0.1622</td>\n",
       "      <td>0.6656</td>\n",
       "      <td>0.7119</td>\n",
       "      <td>0.2654</td>\n",
       "      <td>0.4601</td>\n",
       "      <td>0.11890</td>\n",
       "    </tr>\n",
       "    <tr>\n",
       "      <td>1</td>\n",
       "      <td>842517</td>\n",
       "      <td>M</td>\n",
       "      <td>20.57</td>\n",
       "      <td>17.77</td>\n",
       "      <td>132.90</td>\n",
       "      <td>1326.0</td>\n",
       "      <td>0.08474</td>\n",
       "      <td>0.07864</td>\n",
       "      <td>0.0869</td>\n",
       "      <td>0.07017</td>\n",
       "      <td>...</td>\n",
       "      <td>24.99</td>\n",
       "      <td>23.41</td>\n",
       "      <td>158.80</td>\n",
       "      <td>1956.0</td>\n",
       "      <td>0.1238</td>\n",
       "      <td>0.1866</td>\n",
       "      <td>0.2416</td>\n",
       "      <td>0.1860</td>\n",
       "      <td>0.2750</td>\n",
       "      <td>0.08902</td>\n",
       "    </tr>\n",
       "    <tr>\n",
       "      <td>2</td>\n",
       "      <td>84300903</td>\n",
       "      <td>M</td>\n",
       "      <td>19.69</td>\n",
       "      <td>21.25</td>\n",
       "      <td>130.00</td>\n",
       "      <td>1203.0</td>\n",
       "      <td>0.10960</td>\n",
       "      <td>0.15990</td>\n",
       "      <td>0.1974</td>\n",
       "      <td>0.12790</td>\n",
       "      <td>...</td>\n",
       "      <td>23.57</td>\n",
       "      <td>25.53</td>\n",
       "      <td>152.50</td>\n",
       "      <td>1709.0</td>\n",
       "      <td>0.1444</td>\n",
       "      <td>0.4245</td>\n",
       "      <td>0.4504</td>\n",
       "      <td>0.2430</td>\n",
       "      <td>0.3613</td>\n",
       "      <td>0.08758</td>\n",
       "    </tr>\n",
       "    <tr>\n",
       "      <td>3</td>\n",
       "      <td>84348301</td>\n",
       "      <td>M</td>\n",
       "      <td>11.42</td>\n",
       "      <td>20.38</td>\n",
       "      <td>77.58</td>\n",
       "      <td>386.1</td>\n",
       "      <td>0.14250</td>\n",
       "      <td>0.28390</td>\n",
       "      <td>0.2414</td>\n",
       "      <td>0.10520</td>\n",
       "      <td>...</td>\n",
       "      <td>14.91</td>\n",
       "      <td>26.50</td>\n",
       "      <td>98.87</td>\n",
       "      <td>567.7</td>\n",
       "      <td>0.2098</td>\n",
       "      <td>0.8663</td>\n",
       "      <td>0.6869</td>\n",
       "      <td>0.2575</td>\n",
       "      <td>0.6638</td>\n",
       "      <td>0.17300</td>\n",
       "    </tr>\n",
       "    <tr>\n",
       "      <td>4</td>\n",
       "      <td>84358402</td>\n",
       "      <td>M</td>\n",
       "      <td>20.29</td>\n",
       "      <td>14.34</td>\n",
       "      <td>135.10</td>\n",
       "      <td>1297.0</td>\n",
       "      <td>0.10030</td>\n",
       "      <td>0.13280</td>\n",
       "      <td>0.1980</td>\n",
       "      <td>0.10430</td>\n",
       "      <td>...</td>\n",
       "      <td>22.54</td>\n",
       "      <td>16.67</td>\n",
       "      <td>152.20</td>\n",
       "      <td>1575.0</td>\n",
       "      <td>0.1374</td>\n",
       "      <td>0.2050</td>\n",
       "      <td>0.4000</td>\n",
       "      <td>0.1625</td>\n",
       "      <td>0.2364</td>\n",
       "      <td>0.07678</td>\n",
       "    </tr>\n",
       "  </tbody>\n",
       "</table>\n",
       "<p>5 rows × 32 columns</p>\n",
       "</div>"
      ],
      "text/plain": [
       "         ID Target  Radius-1  Texture-1  Perimeter-1  Area-1  Smoothness-1  \\\n",
       "0    842302      M     17.99      10.38       122.80  1001.0       0.11840   \n",
       "1    842517      M     20.57      17.77       132.90  1326.0       0.08474   \n",
       "2  84300903      M     19.69      21.25       130.00  1203.0       0.10960   \n",
       "3  84348301      M     11.42      20.38        77.58   386.1       0.14250   \n",
       "4  84358402      M     20.29      14.34       135.10  1297.0       0.10030   \n",
       "\n",
       "   Compactness-1  Concavity-1  Concave Points-1  ...  Radius-3  Texture-3  \\\n",
       "0        0.27760       0.3001           0.14710  ...     25.38      17.33   \n",
       "1        0.07864       0.0869           0.07017  ...     24.99      23.41   \n",
       "2        0.15990       0.1974           0.12790  ...     23.57      25.53   \n",
       "3        0.28390       0.2414           0.10520  ...     14.91      26.50   \n",
       "4        0.13280       0.1980           0.10430  ...     22.54      16.67   \n",
       "\n",
       "   Perimeter-3  Area-3  Smoothness-3  Compactness-3  Concavity-3  \\\n",
       "0       184.60  2019.0        0.1622         0.6656       0.7119   \n",
       "1       158.80  1956.0        0.1238         0.1866       0.2416   \n",
       "2       152.50  1709.0        0.1444         0.4245       0.4504   \n",
       "3        98.87   567.7        0.2098         0.8663       0.6869   \n",
       "4       152.20  1575.0        0.1374         0.2050       0.4000   \n",
       "\n",
       "   Concave Points-3  Symmetry-3  Fractal Dimension-3  \n",
       "0            0.2654      0.4601              0.11890  \n",
       "1            0.1860      0.2750              0.08902  \n",
       "2            0.2430      0.3613              0.08758  \n",
       "3            0.2575      0.6638              0.17300  \n",
       "4            0.1625      0.2364              0.07678  \n",
       "\n",
       "[5 rows x 32 columns]"
      ]
     },
     "execution_count": 3,
     "metadata": {},
     "output_type": "execute_result"
    }
   ],
   "source": [
    "data = pd.read_csv('wdbc.data', names=header)\n",
    "data.head()"
   ]
  },
  {
   "cell_type": "code",
   "execution_count": 4,
   "metadata": {},
   "outputs": [],
   "source": [
    "data['Target'] = data['Target'].map({'M': 1, 'B': 0})"
   ]
  },
  {
   "cell_type": "markdown",
   "metadata": {},
   "source": [
    "## Limpeza da Base de Dados - 3 Células"
   ]
  },
  {
   "cell_type": "code",
   "execution_count": 5,
   "metadata": {},
   "outputs": [],
   "source": [
    "X = data.drop(head, axis = 1)\n",
    "y = data['Target']"
   ]
  },
  {
   "cell_type": "code",
   "execution_count": 6,
   "metadata": {},
   "outputs": [],
   "source": [
    "X_train, X_test, y_train, y_test = train_test_split(X, y, test_size=0.3, random_state=11)"
   ]
  },
  {
   "cell_type": "code",
   "execution_count": 7,
   "metadata": {},
   "outputs": [],
   "source": [
    "scaler = StandardScaler()\n",
    "scaler.fit(X_train)\n",
    "scale_X_train = scaler.transform(X_train)\n",
    "scale_X_test = scaler.transform(X_test)"
   ]
  },
  {
   "cell_type": "markdown",
   "metadata": {},
   "source": [
    "## Métodos de Classificação - 3 Células"
   ]
  },
  {
   "cell_type": "code",
   "execution_count": 8,
   "metadata": {},
   "outputs": [],
   "source": [
    "_3_cells = {}"
   ]
  },
  {
   "cell_type": "markdown",
   "metadata": {},
   "source": [
    "### Logistic Regression"
   ]
  },
  {
   "cell_type": "code",
   "execution_count": 9,
   "metadata": {
    "scrolled": true
   },
   "outputs": [
    {
     "name": "stdout",
     "output_type": "stream",
     "text": [
      "Solver: newton-cg\n",
      "Accuracy Score: 0.992\n",
      "\n",
      "Solver: lbfgs\n",
      "Accuracy Score: 0.992\n",
      "\n",
      "Solver: liblinear\n",
      "Accuracy Score: 0.992\n",
      "\n",
      "Solver: sag\n",
      "Accuracy Score: 0.992\n",
      "\n",
      "Solver: saga\n",
      "Accuracy Score: 0.992\n",
      "\n"
     ]
    },
    {
     "name": "stderr",
     "output_type": "stream",
     "text": [
      "C:\\Users\\lucas\\Anaconda3\\lib\\site-packages\\sklearn\\linear_model\\_sag.py:330: ConvergenceWarning: The max_iter was reached which means the coef_ did not converge\n",
      "  \"the coef_ did not converge\", ConvergenceWarning)\n",
      "C:\\Users\\lucas\\Anaconda3\\lib\\site-packages\\sklearn\\linear_model\\_sag.py:330: ConvergenceWarning: The max_iter was reached which means the coef_ did not converge\n",
      "  \"the coef_ did not converge\", ConvergenceWarning)\n"
     ]
    }
   ],
   "source": [
    "from sklearn.linear_model import LogisticRegression\n",
    "\n",
    "solvers = ['newton-cg', 'lbfgs', 'liblinear', 'sag', 'saga']\n",
    "\n",
    "lr_X_train = scale_X_train\n",
    "lr_X_test = scale_X_test\n",
    "lr_y_train = y_train\n",
    "lr_y_test = y_test\n",
    "\n",
    "_3_cells['lr'] = {'score': 0, 'solver': ''}\n",
    "\n",
    "for solver in solvers:\n",
    "    lr = LogisticRegression(solver= solver, multi_class= 'ovr')\n",
    "    lr.fit(lr_X_train, lr_y_train)\n",
    "    lr_pred = lr.predict(lr_X_test)\n",
    "    score = lr.score(lr_X_train, lr_y_train)\n",
    "    print ('Solver: ' + solver)\n",
    "    print('Accuracy Score: {0:.3f}\\n'.format(score))\n",
    "    if score > _3_cells['lr']['score']:\n",
    "        _3_cells['lr']['solver'] = solver"
   ]
  },
  {
   "cell_type": "code",
   "execution_count": 10,
   "metadata": {},
   "outputs": [
    {
     "name": "stderr",
     "output_type": "stream",
     "text": [
      "C:\\Users\\lucas\\Anaconda3\\lib\\site-packages\\sklearn\\linear_model\\_sag.py:330: ConvergenceWarning: The max_iter was reached which means the coef_ did not converge\n",
      "  \"the coef_ did not converge\", ConvergenceWarning)\n"
     ]
    }
   ],
   "source": [
    "lr = LogisticRegression(solver= _3_cells['lr']['solver'], multi_class= 'ovr')\n",
    "lr.fit(lr_X_train, lr_y_train)\n",
    "lr_pred = lr.predict(lr_X_test)\n",
    "\n",
    "score = lr.score(lr_X_test, lr_y_test)\n",
    "_3_cells['lr']['score'] = score\n",
    "#print(confusion_matrix(lr_y_test, lr_pred))\n",
    "_3_cells['lr']['cr'] = classification_report(lr_y_test, lr_pred)"
   ]
  },
  {
   "cell_type": "markdown",
   "metadata": {},
   "source": [
    "### Naive Bayes Classifier"
   ]
  },
  {
   "cell_type": "code",
   "execution_count": 11,
   "metadata": {},
   "outputs": [
    {
     "name": "stdout",
     "output_type": "stream",
     "text": [
      "Accuracy Score: 0.945\n"
     ]
    }
   ],
   "source": [
    "from sklearn.naive_bayes import GaussianNB\n",
    "\n",
    "nbc_X_train = scale_X_train\n",
    "nbc_X_test = scale_X_test\n",
    "nbc_y_train = y_train\n",
    "nbc_y_test = y_test\n",
    "\n",
    "_3_cells['nbc'] = {'score': 0}\n",
    "\n",
    "nbc = GaussianNB()\n",
    "nbc.fit(nbc_X_train, nbc_y_train)\n",
    "nbc_pred = nbc.predict(nbc_X_test)\n",
    "score = nbc.score(nbc_X_train, nbc_y_train)\n",
    "print('Accuracy Score: {0:.3f}'.format(score))\n",
    "_3_cells['nbc']['score'] = score"
   ]
  },
  {
   "cell_type": "code",
   "execution_count": 12,
   "metadata": {
    "scrolled": false
   },
   "outputs": [],
   "source": [
    "score = nbc.score(nbc_X_test, nbc_y_test)\n",
    "_3_cells['nbc']['score'] = score\n",
    "_3_cells['nbc']['cr'] = classification_report(nbc_y_test, nbc_pred)"
   ]
  },
  {
   "cell_type": "markdown",
   "metadata": {},
   "source": [
    "### K-Nearest Neighbors (KNN)"
   ]
  },
  {
   "cell_type": "code",
   "execution_count": 13,
   "metadata": {},
   "outputs": [],
   "source": [
    "from sklearn.neighbors import KNeighborsClassifier\n",
    "\n",
    "#knn_error_rate = []\n",
    "knn_score = []\n",
    "\n",
    "knn_X_train = scale_X_train\n",
    "knn_X_test = scale_X_test\n",
    "knn_y_train = y_train\n",
    "knn_y_test = y_test\n",
    "\n",
    "_3_cells['knn'] = {'score': 0, 'k': 0}\n",
    "\n",
    "for i in range(1, 30):\n",
    "    knn = KNeighborsClassifier(n_neighbors = i)\n",
    "    knn.fit(knn_X_train, knn_y_train)\n",
    "    knn_pred = knn.predict(knn_X_test)\n",
    "    score = knn.score(knn_X_train, knn_y_train)\n",
    "    #knn_error_rate.append(np.mean(knn_pred != knn_y_test))\n",
    "    knn_score.append(score)\n",
    "    if score > _3_cells['knn']['score']:\n",
    "        _3_cells['knn']['k'] = i\n",
    "        _3_cells['knn']['score'] = score"
   ]
  },
  {
   "cell_type": "code",
   "execution_count": 14,
   "metadata": {},
   "outputs": [
    {
     "data": {
      "text/plain": [
       "Text(0, 0.5, 'Accuracy Score')"
      ]
     },
     "execution_count": 14,
     "metadata": {},
     "output_type": "execute_result"
    },
    {
     "data": {
      "image/png": "[encoded data removed]",
      "text/plain": [
       "<Figure size 720x432 with 1 Axes>"
      ]
     },
     "metadata": {
      "needs_background": "light"
     },
     "output_type": "display_data"
    }
   ],
   "source": [
    "plt.figure(figsize = (10, 6))\n",
    "plt.plot(range(1, 30), knn_score, color = 'black', linestyle = 'dashed', \n",
    "         marker = 'o', markerfacecolor = 'blue', markersize = 10)\n",
    "plt.title('Accuracy Score vs K Value')\n",
    "plt.xlabel('K')\n",
    "plt.ylabel('Accuracy Score')"
   ]
  },
  {
   "cell_type": "code",
   "execution_count": 15,
   "metadata": {},
   "outputs": [
    {
     "name": "stdout",
     "output_type": "stream",
     "text": [
      "K: 1\n",
      "Accuracy Score: 1.000\n",
      "\n"
     ]
    }
   ],
   "source": [
    "print('K: ' + str(_3_cells['knn']['k']))\n",
    "print('Accuracy Score: {0:.3f}\\n'.format(_3_cells['knn']['score']))"
   ]
  },
  {
   "cell_type": "code",
   "execution_count": 16,
   "metadata": {},
   "outputs": [],
   "source": [
    "knn = KNeighborsClassifier(n_neighbors = _3_cells['knn']['k'])\n",
    "knn.fit(knn_X_train, knn_y_train)\n",
    "knn_pred = knn.predict(knn_X_test)\n",
    "\n",
    "score = knn.score(knn_X_test, knn_y_test)\n",
    "_3_cells['knn']['score'] = score\n",
    "_3_cells['knn']['cr'] = classification_report(knn_y_test, knn_pred)"
   ]
  },
  {
   "cell_type": "markdown",
   "metadata": {},
   "source": [
    "### Support Vector Machines (SVM)"
   ]
  },
  {
   "cell_type": "code",
   "execution_count": 17,
   "metadata": {},
   "outputs": [
    {
     "name": "stdout",
     "output_type": "stream",
     "text": [
      "Kernel: linear\n",
      "Accuracy Score: 0.992\n",
      "\n",
      "Kernel: poly\n",
      "Accuracy Score: 0.912\n",
      "\n",
      "Kernel: rbf\n",
      "Accuracy Score: 0.995\n",
      "\n",
      "Kernel: sigmoid\n",
      "Accuracy Score: 0.962\n",
      "\n"
     ]
    }
   ],
   "source": [
    "from sklearn.svm import SVC\n",
    "from sklearn.svm import LinearSVC\n",
    "\n",
    "svm_X_train = scale_X_train\n",
    "svm_X_test = scale_X_test\n",
    "svm_y_train = y_train\n",
    "svm_y_test = y_test\n",
    "\n",
    "_3_cells['svm'] = {'score': 0, 'kernel': '0'}\n",
    "\n",
    "kernels = ['linear', 'poly', 'rbf', 'sigmoid']\n",
    "\n",
    "for kernel in kernels:\n",
    "    svm = SVC(kernel = kernel, random_state = 11)\n",
    "    svm.fit(svm_X_train, svm_y_train)\n",
    "    svm_pred = svm.predict(svm_X_test)\n",
    "    score = svm.score(svm_X_train, svm_y_train)\n",
    "    print ('Kernel: ' + kernel)\n",
    "    print('Accuracy Score: {0:.3f}\\n'.format(score))\n",
    "    if score > _3_cells['svm']['score']:\n",
    "        _3_cells['svm']['score'] = score\n",
    "        _3_cells['svm']['kernel'] = kernel"
   ]
  },
  {
   "cell_type": "code",
   "execution_count": 18,
   "metadata": {
    "scrolled": true
   },
   "outputs": [],
   "source": [
    "svm = SVC(kernel = _3_cells['svm']['kernel'], random_state = 11)\n",
    "svm.fit(svm_X_train, svm_y_train)\n",
    "svm_pred = svm.predict(svm_X_test)\n",
    "\n",
    "score = svm.score(svm_X_test, svm_y_test)\n",
    "_3_cells['svm']['score'] = score\n",
    "_3_cells['svm']['cr'] = classification_report(svm_y_test, svm_pred)"
   ]
  },
  {
   "cell_type": "markdown",
   "metadata": {},
   "source": [
    "### Random Forest Classifier"
   ]
  },
  {
   "cell_type": "code",
   "execution_count": null,
   "metadata": {
    "scrolled": true
   },
   "outputs": [
    {
     "name": "stdout",
     "output_type": "stream",
     "text": [
      "Number of trees: 1.00\n",
      "Minimum sample leaf: 1.00\n",
      "Accuracy Score: 0.96\n",
      "\n",
      "Number of trees: 51.00\n",
      "Minimum sample leaf: 1.00\n",
      "Accuracy Score: 1.00\n",
      "\n"
     ]
    }
   ],
   "source": [
    "from sklearn.ensemble import RandomForestClassifier\n",
    "\n",
    "rfc_X_train = scale_X_train\n",
    "rfc_X_test = scale_X_test\n",
    "rfc_y_train = y_train\n",
    "rfc_y_test = y_test\n",
    "\n",
    "_3_cells['rfc'] = {'score': 0, 'trees': 0, 'leafs': 0}\n",
    "\n",
    "for i in range(1, 1000, 50):\n",
    "    for j in range(1, 10):\n",
    "        rfc = RandomForestClassifier(n_estimators = i, min_samples_leaf = j, random_state = 11)\n",
    "        rfc.fit(rfc_X_train, rfc_y_train)\n",
    "        rfc_pred = rfc.predict(rfc_X_test)\n",
    "        score = rfc.score(rfc_X_train, rfc_y_train)\n",
    "        if _3_cells['rfc']['score'] < score:\n",
    "            _3_cells['rfc']['score'] = score\n",
    "            _3_cells['rfc']['trees'] = i\n",
    "            _3_cells['rfc']['leafs'] = j\n",
    "            print('Number of trees: %.2f' % i)\n",
    "            print('Minimum sample leaf: %.2f' % j)\n",
    "            print ('Accuracy Score: %.2f\\n' % score)"
   ]
  },
  {
   "cell_type": "code",
   "execution_count": null,
   "metadata": {
    "scrolled": true
   },
   "outputs": [],
   "source": [
    "rfc = RandomForestClassifier(n_estimators = _3_cells['rfc']['trees'], min_samples_leaf = _3_cells['rfc']['leafs'], random_state = 11)\n",
    "rfc.fit(rfc_X_train, rfc_y_train)\n",
    "rfc_pred = rfc.predict(rfc_X_test)\n",
    "\n",
    "score = rfc.score(rfc_X_test, rfc_y_test)\n",
    "_3_cells['rfc']['score'] = score\n",
    "_3_cells['rfc']['cr'] = classification_report(rfc_y_test, rfc_pred)"
   ]
  },
  {
   "cell_type": "markdown",
   "metadata": {},
   "source": [
    "## Exportando os Scores"
   ]
  },
  {
   "cell_type": "code",
   "execution_count": null,
   "metadata": {},
   "outputs": [],
   "source": [
    "with open('3-Células.txt', 'w') as outfile:\n",
    "    json.dump(_3_cells, outfile)"
   ]
  }
 ],
 "metadata": {
  "kernelspec": {
   "display_name": "Python 3",
   "language": "python",
   "name": "python3"
  },
  "language_info": {
   "codemirror_mode": {
    "name": "ipython",
    "version": 3
   },
   "file_extension": ".py",
   "mimetype": "text/x-python",
   "name": "python",
   "nbconvert_exporter": "python",
   "pygments_lexer": "ipython3",
   "version": "3.7.4"
  }
 },
 "nbformat": 4,
 "nbformat_minor": 2
}
